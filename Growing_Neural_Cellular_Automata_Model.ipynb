{
  "nbformat": 4,
  "nbformat_minor": 0,
  "metadata": {
    "colab": {
      "name": "Growing Neural Cellular Automata Model.ipynb",
      "provenance": [],
      "authorship_tag": "ABX9TyMssW/71JsvGku7mAq8yRTt",
      "include_colab_link": true
    },
    "kernelspec": {
      "name": "python3",
      "display_name": "Python 3"
    }
  },
  "cells": [
    {
      "cell_type": "markdown",
      "metadata": {
        "id": "view-in-github",
        "colab_type": "text"
      },
      "source": [
        "<a href=\"https://colab.research.google.com/github/adrianmarino/growing-neural-cellular-automata/blob/master/Growing_Neural_Cellular_Automata_Model.ipynb\" target=\"_parent\"><img src=\"https://colab.research.google.com/assets/colab-badge.svg\" alt=\"Open In Colab\"/></a>"
      ]
    },
    {
      "cell_type": "markdown",
      "metadata": {
        "id": "nTFZDXpMkx10",
        "colab_type": "text"
      },
      "source": [
        "1. Clone project repository"
      ]
    },
    {
      "cell_type": "code",
      "metadata": {
        "id": "JfLhKw3zyHbW",
        "colab_type": "code",
        "outputId": "f7fcc9ed-6911-42ae-e65b-077e9cb5acb7",
        "colab": {
          "base_uri": "https://localhost:8080/",
          "height": 136
        }
      },
      "source": [
        "!git clone https://github.com/adrianmarino/growing-neural-cellular-automata.git"
      ],
      "execution_count": 0,
      "outputs": [
        {
          "output_type": "stream",
          "text": [
            "Cloning into 'growing-neural-cellular-automata'...\n",
            "remote: Enumerating objects: 264, done.\u001b[K\n",
            "remote: Counting objects: 100% (264/264), done.\u001b[K\n",
            "remote: Compressing objects: 100% (150/150), done.\u001b[K\n",
            "remote: Total 264 (delta 116), reused 246 (delta 102), pack-reused 0\u001b[K\n",
            "Receiving objects: 100% (264/264), 209.72 KiB | 401.00 KiB/s, done.\n",
            "Resolving deltas: 100% (116/116), done.\n"
          ],
          "name": "stdout"
        }
      ]
    },
    {
      "cell_type": "markdown",
      "metadata": {
        "id": "ld2JEjd1kuMA",
        "colab_type": "text"
      },
      "source": [
        "2. Install conda"
      ]
    },
    {
      "cell_type": "code",
      "metadata": {
        "id": "ioGu-2Ci0tqC",
        "colab_type": "code",
        "colab": {}
      },
      "source": [
        "! wget https://repo.anaconda.com/miniconda/Miniconda3-py37_4.8.2-Linux-x86_64.sh\n",
        "! chmod +x Miniconda3-py37_4.8.2-Linux-x86_64.sh\n",
        "! bash ./Miniconda3-py37_4.8.2-Linux-x86_64.sh -b -f -p /usr/local\n",
        "import sys\n",
        "sys.path.append('/usr/local/lib/python3.7/site-packages/')"
      ],
      "execution_count": 0,
      "outputs": []
    },
    {
      "cell_type": "code",
      "metadata": {
        "id": "UdjR1OgX2pYw",
        "colab_type": "code",
        "colab": {}
      },
      "source": [
        "!conda init"
      ],
      "execution_count": 0,
      "outputs": []
    },
    {
      "cell_type": "code",
      "metadata": {
        "id": "IvTsoXz82vTG",
        "colab_type": "code",
        "colab": {}
      },
      "source": [
        "!source ~/.bashrc"
      ],
      "execution_count": 0,
      "outputs": []
    },
    {
      "cell_type": "code",
      "metadata": {
        "id": "83gajjde3Kpi",
        "colab_type": "code",
        "outputId": "d65e5c27-936b-4120-aeed-3091db9dbe36",
        "colab": {
          "base_uri": "https://localhost:8080/",
          "height": 34
        }
      },
      "source": [
        "%cd /content/growing-neural-cellular-automata"
      ],
      "execution_count": 0,
      "outputs": [
        {
          "output_type": "stream",
          "text": [
            "/content/growing-neural-cellular-automata\n"
          ],
          "name": "stdout"
        }
      ]
    },
    {
      "cell_type": "code",
      "metadata": {
        "id": "xroiunTF0aVt",
        "colab_type": "code",
        "colab": {}
      },
      "source": [
        "!conda env create --file environment.yml"
      ],
      "execution_count": 0,
      "outputs": []
    },
    {
      "cell_type": "code",
      "metadata": {
        "id": "KJ01nM6_y6SB",
        "colab_type": "code",
        "colab": {}
      },
      "source": [
        "import subprocess\n",
        "from collections import namedtuple \n",
        "\n",
        "VideoCardSpecs = namedtuple('VideoCardSpecs', 'gpu max_memory found')\n",
        "\n",
        "def command_output(commans):\n",
        "    return subprocess \\\n",
        "        .run(commans, stdout=subprocess.PIPE) \\\n",
        "        .stdout.decode('utf-8')\n",
        "\n",
        "def video_card_specs():\n",
        "    try:\n",
        "        lines = command_output(['nvidia-smi']).splitlines()\n",
        "        return VideoCardSpecs(\n",
        "            gpu=lines[7][7:27].strip(),\n",
        "            max_memory=lines[8][45:55].strip(),\n",
        "            found=True\n",
        "        )\n",
        "    except Exception as error:\n",
        "        return VideoCardSpecs(\n",
        "            gpu='Not specified', \n",
        "            max_memory='Not specified',\n",
        "            found=False\n",
        "        )\n",
        "\n",
        "def request_best_virtual_maquine(enable=True):\n",
        "    specs = video_card_specs()\n",
        "    if not specs.found:\n",
        "        print('Not found GPU')\n",
        "        return\n",
        "    \n",
        "    if enable and 'Tesla K80' in specs.gpu:\n",
        "        print('Try request a best virtual maquine...')\n",
        "        list = []\n",
        "        while True:\n",
        "            list.append(1)\n",
        "\n",
        "    print(specs)"
      ],
      "execution_count": 0,
      "outputs": []
    },
    {
      "cell_type": "code",
      "metadata": {
        "id": "t81Hu3c8y9mO",
        "colab_type": "code",
        "outputId": "6a15b74f-16f0-41eb-baa7-09ff36999608",
        "colab": {
          "base_uri": "https://localhost:8080/",
          "height": 34
        }
      },
      "source": [
        "request_best_virtual_maquine(enable=False)"
      ],
      "execution_count": 0,
      "outputs": [
        {
          "output_type": "stream",
          "text": [
            "Not found GPU\n"
          ],
          "name": "stdout"
        }
      ]
    },
    {
      "cell_type": "code",
      "metadata": {
        "id": "eqteCv4JzCs6",
        "colab_type": "code",
        "outputId": "9cb420f1-14d4-43a1-bfd6-39b34f404297",
        "colab": {
          "base_uri": "https://localhost:8080/",
          "height": 105
        }
      },
      "source": [
        "!nvidia-smi\n",
        "!cat /proc/cpuinfo | grep \"model name\""
      ],
      "execution_count": 0,
      "outputs": [
        {
          "output_type": "stream",
          "text": [
            "NVIDIA-SMI has failed because it couldn't communicate with the NVIDIA driver. Make sure that the latest NVIDIA driver is installed and running.\n",
            "\n",
            "model name\t: Intel(R) Xeon(R) CPU @ 2.20GHz\n",
            "model name\t: Intel(R) Xeon(R) CPU @ 2.20GHz\n"
          ],
          "name": "stdout"
        }
      ]
    },
    {
      "cell_type": "code",
      "metadata": {
        "id": "sZ4a9Xu6zMfU",
        "colab_type": "code",
        "colab": {}
      },
      "source": [
        "from google.colab import drive\n",
        "\n",
        "def mount_gdrive(path):\n",
        "    drive.mount(path, force_remount=True)"
      ],
      "execution_count": 0,
      "outputs": []
    },
    {
      "cell_type": "code",
      "metadata": {
        "id": "eCsRpktRzPZX",
        "colab_type": "code",
        "outputId": "f4c54a90-112b-487e-d012-7b108cd1fd18",
        "colab": {
          "base_uri": "https://localhost:8080/",
          "height": 122
        }
      },
      "source": [
        "mount_gdrive('/content/gdrive')"
      ],
      "execution_count": 0,
      "outputs": [
        {
          "output_type": "stream",
          "text": [
            "Go to this URL in a browser: https://accounts.google.com/o/oauth2/auth?client_id=947318989803-6bn6qk8qdgf4n4g3pfee6491hc0brc4i.apps.googleusercontent.com&redirect_uri=urn%3aietf%3awg%3aoauth%3a2.0%3aoob&response_type=code&scope=email%20https%3a%2f%2fwww.googleapis.com%2fauth%2fdocs.test%20https%3a%2f%2fwww.googleapis.com%2fauth%2fdrive%20https%3a%2f%2fwww.googleapis.com%2fauth%2fdrive.photos.readonly%20https%3a%2f%2fwww.googleapis.com%2fauth%2fpeopleapi.readonly\n",
            "\n",
            "Enter your authorization code:\n",
            "··········\n",
            "Mounted at /content/gdrive\n"
          ],
          "name": "stdout"
        }
      ]
    },
    {
      "cell_type": "code",
      "metadata": {
        "id": "5A-M5Ce7zeWR",
        "colab_type": "code",
        "outputId": "361ced87-dea8-406f-dccb-c1953e6eb177",
        "colab": {
          "base_uri": "https://localhost:8080/",
          "height": 34
        }
      },
      "source": [
        "%cd /content/growing-neural-cellular-automata\n",
        "!rm -rf weights \n",
        "!ln -s /content/gdrive/My\\ Drive/machine-learning/weights/growing-neural-cellular-automata/lizard-16x16 weights"
      ],
      "execution_count": 0,
      "outputs": [
        {
          "output_type": "stream",
          "text": [
            "/content/growing-neural-cellular-automata\n"
          ],
          "name": "stdout"
        }
      ]
    },
    {
      "cell_type": "code",
      "metadata": {
        "id": "t7tbR1Nf8Qa3",
        "colab_type": "code",
        "outputId": "848c6f55-2a37-4b1c-c42d-c2b52e9230c5",
        "colab": {
          "base_uri": "https://localhost:8080/",
          "height": 34
        }
      },
      "source": [
        "%cd /content/growing-neural-cellular-automata"
      ],
      "execution_count": 0,
      "outputs": [
        {
          "output_type": "stream",
          "text": [
            "/content/growing-neural-cellular-automata\n"
          ],
          "name": "stdout"
        }
      ]
    },
    {
      "cell_type": "code",
      "metadata": {
        "id": "VnNw-VRM8URB",
        "colab_type": "code",
        "colab": {}
      },
      "source": [
        "!source activate ca-growth && ./ca-growth --action train \\\n",
        "    --config lizard-16x16 \\\n",
        "    --hide-output \\\n",
        "    --hide-loss-graph"
      ],
      "execution_count": 0,
      "outputs": []
    }
  ]
}